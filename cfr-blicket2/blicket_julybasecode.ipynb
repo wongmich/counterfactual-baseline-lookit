{
  "nbformat": 4,
  "nbformat_minor": 0,
  "metadata": {
    "colab": {
      "provenance": []
    },
    "kernelspec": {
      "name": "python3",
      "display_name": "Python 3"
    },
    "language_info": {
      "name": "python"
    }
  },
  "cells": [
    {
      "cell_type": "code",
      "execution_count": 2,
      "metadata": {
        "colab": {
          "base_uri": "https://localhost:8080/",
          "height": 131
        },
        "id": "BjCm1sQ9ly4H",
        "outputId": "36d51928-6556-4e90-9e80-ba2c60775e3e"
      },
      "outputs": [
        {
          "output_type": "error",
          "ename": "SyntaxError",
          "evalue": "ignored",
          "traceback": [
            "\u001b[0;36m  File \u001b[0;32m\"<ipython-input-2-3410e066c39c>\"\u001b[0;36m, line \u001b[0;32m27\u001b[0m\n\u001b[0;31m    }\u001b[0m\n\u001b[0m     ^\u001b[0m\n\u001b[0;31mSyntaxError\u001b[0m\u001b[0;31m:\u001b[0m incomplete input\n"
          ]
        }
      ],
      "source": [
        "{\"frames\": {\n",
        "\n",
        "\"Blicket\":\n",
        "\n",
        "        {\n",
        "            \"kind\": \"group\",\n",
        "            \"frameList\":\n",
        "            [\n",
        "\n",
        "                {\n",
        "                    \"kind\": \"exp-lookit-video\",\n",
        "                    \"id\": \"blicketintro\",\n",
        "                    \"video\": {\n",
        "                        \"loop\": false,\n",
        "                        \"source\": \"blicket task 2_default\",\n",
        "                        \"position\": \"fill\",\n",
        "                    }\n",
        "                },\n",
        "            ]\n",
        "        }\n",
        "     \"intropracticechoices\": {\n",
        "      \"kind\": \"exp-lookit-images-audio\",\n",
        "     }\n",
        "\n",
        "\n",
        "\"commonFrameProperties\": {\n",
        "\n",
        "                \"nextButtonText\": \"Next\",\n",
        "                \"autoProceed\": true,\n",
        "                \"showReplayButton\": true,\n",
        "                \"showPreviousButton\": false,\n",
        "                \"baseDir\": \"https://raw.githubusercontent.com/wongmich/counterfactual-baseline-lookit/master/cfr-blicket2\",\n",
        "                \"doRecording\": false,\n",
        "\n",
        "                \"backgroundColor\": \"white\",\n",
        "                \"audioTypes\": [\"mp3\"],\n",
        "                \"videoTypes\": [\"mp4\"],\n",
        "                \"pageColor\": \"white\",\n",
        "                \"video\": {\n",
        "                        \"top\": 1,\n",
        "                        \"left\": 7,\n",
        "                        \"width\": 86\n",
        "                },\n",
        "                \"images\": [{\n",
        "                        \"top\": 0,\n",
        "                        \"left\": 7,\n",
        "                        \"width\": 86 }]\n",
        "            }\n",
        "\n",
        " }\n",
        "}"
      ]
    },
    {
      "cell_type": "code",
      "source": [],
      "metadata": {
        "id": "Q0QhXKf4l0Dv"
      },
      "execution_count": null,
      "outputs": []
    }
  ]
}